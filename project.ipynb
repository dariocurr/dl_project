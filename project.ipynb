{
 "metadata": {
  "language_info": {
   "codemirror_mode": {
    "name": "ipython",
    "version": 3
   },
   "file_extension": ".py",
   "mimetype": "text/x-python",
   "name": "python",
   "nbconvert_exporter": "python",
   "pygments_lexer": "ipython3",
   "version": "3.6.9"
  },
  "orig_nbformat": 2,
  "kernelspec": {
   "name": "python369jvsc74a57bd04cd7ab41f5fca4b9b44701077e38c5ffd31fe66a6cab21e0214b68d958d0e462",
   "display_name": "Python 3.6.9 64-bit"
  },
  "metadata": {
   "interpreter": {
    "hash": "4cd7ab41f5fca4b9b44701077e38c5ffd31fe66a6cab21e0214b68d958d0e462"
   }
  }
 },
 "nbformat": 4,
 "nbformat_minor": 2,
 "cells": [
  {
   "cell_type": "code",
   "execution_count": 1,
   "metadata": {},
   "outputs": [],
   "source": [
    "import os\n",
    "import keras\n",
    "import pandas as pd\n",
    "\n",
    "from keras import preprocessing\n",
    "from matplotlib import pyplot as plt\n",
    "from sklearn.model_selection import train_test_split"
   ]
  },
  {
   "source": [
    "Load dataset"
   ],
   "cell_type": "markdown",
   "metadata": {}
  },
  {
   "cell_type": "code",
   "execution_count": 2,
   "metadata": {},
   "outputs": [],
   "source": [
    "base_data_path =  '../data/BreaKHis_v1/histology_slides/breast'\n",
    "magnifications = ['40X', '100X', '200X', '400X']\n",
    "classes = ['benign', 'malignant']\n",
    "sub_classes = {\n",
    "    'benign': ['adenosis', 'fibroadenoma', 'phyllodes_tumor', 'tubular_adenoma'],\n",
    "    'malignant': ['ductal_carcinoma', 'lobular_carcinoma', 'mucinous_carcinoma', 'papillary_carcinoma']\n",
    "}"
   ]
  },
  {
   "cell_type": "code",
   "execution_count": 3,
   "metadata": {
    "tags": []
   },
   "outputs": [
    {
     "output_type": "execute_result",
     "data": {
      "text/plain": [
       "                      id     lesion magnification  \\\n",
       "0     SOB_B_A_14-22549AB     benign           40X   \n",
       "1     SOB_B_A_14-22549AB     benign           40X   \n",
       "2     SOB_B_A_14-22549AB     benign           40X   \n",
       "3     SOB_B_A_14-22549AB     benign           40X   \n",
       "4     SOB_B_A_14-22549AB     benign           40X   \n",
       "...                  ...        ...           ...   \n",
       "7904   SOB_M_PC_14-19440  malignant          400X   \n",
       "7905   SOB_M_PC_14-19440  malignant          400X   \n",
       "7906   SOB_M_PC_14-19440  malignant          400X   \n",
       "7907   SOB_M_PC_14-19440  malignant          400X   \n",
       "7908   SOB_M_PC_14-19440  malignant          400X   \n",
       "\n",
       "                                                   path                 type  \n",
       "0     ../data/BreaKHis_v1/histology_slides/breast/be...             adenosis  \n",
       "1     ../data/BreaKHis_v1/histology_slides/breast/be...             adenosis  \n",
       "2     ../data/BreaKHis_v1/histology_slides/breast/be...             adenosis  \n",
       "3     ../data/BreaKHis_v1/histology_slides/breast/be...             adenosis  \n",
       "4     ../data/BreaKHis_v1/histology_slides/breast/be...             adenosis  \n",
       "...                                                 ...                  ...  \n",
       "7904  ../data/BreaKHis_v1/histology_slides/breast/ma...  papillary_carcinoma  \n",
       "7905  ../data/BreaKHis_v1/histology_slides/breast/ma...  papillary_carcinoma  \n",
       "7906  ../data/BreaKHis_v1/histology_slides/breast/ma...  papillary_carcinoma  \n",
       "7907  ../data/BreaKHis_v1/histology_slides/breast/ma...  papillary_carcinoma  \n",
       "7908  ../data/BreaKHis_v1/histology_slides/breast/ma...  papillary_carcinoma  \n",
       "\n",
       "[7909 rows x 5 columns]"
      ],
      "text/html": "<div>\n<style scoped>\n    .dataframe tbody tr th:only-of-type {\n        vertical-align: middle;\n    }\n\n    .dataframe tbody tr th {\n        vertical-align: top;\n    }\n\n    .dataframe thead th {\n        text-align: right;\n    }\n</style>\n<table border=\"1\" class=\"dataframe\">\n  <thead>\n    <tr style=\"text-align: right;\">\n      <th></th>\n      <th>id</th>\n      <th>lesion</th>\n      <th>magnification</th>\n      <th>path</th>\n      <th>type</th>\n    </tr>\n  </thead>\n  <tbody>\n    <tr>\n      <th>0</th>\n      <td>SOB_B_A_14-22549AB</td>\n      <td>benign</td>\n      <td>40X</td>\n      <td>../data/BreaKHis_v1/histology_slides/breast/be...</td>\n      <td>adenosis</td>\n    </tr>\n    <tr>\n      <th>1</th>\n      <td>SOB_B_A_14-22549AB</td>\n      <td>benign</td>\n      <td>40X</td>\n      <td>../data/BreaKHis_v1/histology_slides/breast/be...</td>\n      <td>adenosis</td>\n    </tr>\n    <tr>\n      <th>2</th>\n      <td>SOB_B_A_14-22549AB</td>\n      <td>benign</td>\n      <td>40X</td>\n      <td>../data/BreaKHis_v1/histology_slides/breast/be...</td>\n      <td>adenosis</td>\n    </tr>\n    <tr>\n      <th>3</th>\n      <td>SOB_B_A_14-22549AB</td>\n      <td>benign</td>\n      <td>40X</td>\n      <td>../data/BreaKHis_v1/histology_slides/breast/be...</td>\n      <td>adenosis</td>\n    </tr>\n    <tr>\n      <th>4</th>\n      <td>SOB_B_A_14-22549AB</td>\n      <td>benign</td>\n      <td>40X</td>\n      <td>../data/BreaKHis_v1/histology_slides/breast/be...</td>\n      <td>adenosis</td>\n    </tr>\n    <tr>\n      <th>...</th>\n      <td>...</td>\n      <td>...</td>\n      <td>...</td>\n      <td>...</td>\n      <td>...</td>\n    </tr>\n    <tr>\n      <th>7904</th>\n      <td>SOB_M_PC_14-19440</td>\n      <td>malignant</td>\n      <td>400X</td>\n      <td>../data/BreaKHis_v1/histology_slides/breast/ma...</td>\n      <td>papillary_carcinoma</td>\n    </tr>\n    <tr>\n      <th>7905</th>\n      <td>SOB_M_PC_14-19440</td>\n      <td>malignant</td>\n      <td>400X</td>\n      <td>../data/BreaKHis_v1/histology_slides/breast/ma...</td>\n      <td>papillary_carcinoma</td>\n    </tr>\n    <tr>\n      <th>7906</th>\n      <td>SOB_M_PC_14-19440</td>\n      <td>malignant</td>\n      <td>400X</td>\n      <td>../data/BreaKHis_v1/histology_slides/breast/ma...</td>\n      <td>papillary_carcinoma</td>\n    </tr>\n    <tr>\n      <th>7907</th>\n      <td>SOB_M_PC_14-19440</td>\n      <td>malignant</td>\n      <td>400X</td>\n      <td>../data/BreaKHis_v1/histology_slides/breast/ma...</td>\n      <td>papillary_carcinoma</td>\n    </tr>\n    <tr>\n      <th>7908</th>\n      <td>SOB_M_PC_14-19440</td>\n      <td>malignant</td>\n      <td>400X</td>\n      <td>../data/BreaKHis_v1/histology_slides/breast/ma...</td>\n      <td>papillary_carcinoma</td>\n    </tr>\n  </tbody>\n</table>\n<p>7909 rows × 5 columns</p>\n</div>"
     },
     "metadata": {},
     "execution_count": 3
    }
   ],
   "source": [
    "dataset = pd.DataFrame()\n",
    "for clazz in classes:\n",
    "    for sub_clazz in sub_classes[clazz]:\n",
    "        path = os.path.join(base_data_path, clazz, \"SOB\", sub_clazz)\n",
    "        for id in os.listdir(path):\n",
    "            for magnification in magnifications:\n",
    "                path_to_files = os.path.join(path, id, magnification)\n",
    "                for file_name in os.listdir(path_to_files):\n",
    "                    dataset = dataset.append({\n",
    "                        'id': id,\n",
    "                        'path': os.path.join(path_to_files, file_name),\n",
    "                        'magnification': magnification,\n",
    "                        'type': sub_clazz,\n",
    "                        'lesion': clazz\n",
    "                    }, ignore_index=True)\n",
    "\n",
    "dataset"
   ]
  },
  {
   "cell_type": "code",
   "execution_count": 6,
   "metadata": {},
   "outputs": [
    {
     "output_type": "error",
     "ename": "KeyboardInterrupt",
     "evalue": "",
     "traceback": [
      "\u001b[0;31m---------------------------------------------------------------------------\u001b[0m",
      "\u001b[0;31mKeyboardInterrupt\u001b[0m                         Traceback (most recent call last)",
      "\u001b[0;32m<ipython-input-6-8fd0049a88ca>\u001b[0m in \u001b[0;36m<module>\u001b[0;34m\u001b[0m\n\u001b[1;32m      2\u001b[0m \u001b[0;32mfor\u001b[0m \u001b[0mpath\u001b[0m \u001b[0;32min\u001b[0m \u001b[0mdataset\u001b[0m\u001b[0;34m[\u001b[0m\u001b[0;34m\"path\"\u001b[0m\u001b[0;34m]\u001b[0m\u001b[0;34m:\u001b[0m\u001b[0;34m\u001b[0m\u001b[0;34m\u001b[0m\u001b[0m\n\u001b[1;32m      3\u001b[0m     \u001b[0mimage\u001b[0m \u001b[0;34m=\u001b[0m \u001b[0mkeras\u001b[0m\u001b[0;34m.\u001b[0m\u001b[0mpreprocessing\u001b[0m\u001b[0;34m.\u001b[0m\u001b[0mimage\u001b[0m\u001b[0;34m.\u001b[0m\u001b[0mload_img\u001b[0m\u001b[0;34m(\u001b[0m\u001b[0mpath\u001b[0m\u001b[0;34m)\u001b[0m\u001b[0;34m\u001b[0m\u001b[0;34m\u001b[0m\u001b[0m\n\u001b[0;32m----> 4\u001b[0;31m     \u001b[0mx\u001b[0m\u001b[0;34m.\u001b[0m\u001b[0mappend\u001b[0m\u001b[0;34m(\u001b[0m\u001b[0mkeras\u001b[0m\u001b[0;34m.\u001b[0m\u001b[0mpreprocessing\u001b[0m\u001b[0;34m.\u001b[0m\u001b[0mimage\u001b[0m\u001b[0;34m.\u001b[0m\u001b[0mimg_to_array\u001b[0m\u001b[0;34m(\u001b[0m\u001b[0mimage\u001b[0m\u001b[0;34m)\u001b[0m\u001b[0;34m)\u001b[0m\u001b[0;34m\u001b[0m\u001b[0;34m\u001b[0m\u001b[0m\n\u001b[0m\u001b[1;32m      5\u001b[0m \u001b[0;34m\u001b[0m\u001b[0m\n\u001b[1;32m      6\u001b[0m \u001b[0my\u001b[0m \u001b[0;34m=\u001b[0m \u001b[0;34m[\u001b[0m\u001b[0;36m0\u001b[0m \u001b[0;32mif\u001b[0m \u001b[0mclazz\u001b[0m \u001b[0;34m==\u001b[0m \u001b[0;34m\"bening\"\u001b[0m \u001b[0;32melse\u001b[0m \u001b[0;36m1\u001b[0m \u001b[0;32mfor\u001b[0m \u001b[0mclazz\u001b[0m \u001b[0;32min\u001b[0m \u001b[0mdataset\u001b[0m\u001b[0;34m[\u001b[0m\u001b[0;34m\"lesion\"\u001b[0m\u001b[0;34m]\u001b[0m\u001b[0;34m]\u001b[0m\u001b[0;34m\u001b[0m\u001b[0;34m\u001b[0m\u001b[0m\n",
      "\u001b[0;32m/usr/local/lib/python3.6/dist-packages/keras/preprocessing/image.py\u001b[0m in \u001b[0;36mimg_to_array\u001b[0;34m(img, data_format, dtype)\u001b[0m\n\u001b[1;32m    223\u001b[0m       \u001b[0mdtype\u001b[0m \u001b[0;34m=\u001b[0m \u001b[0mbackend\u001b[0m\u001b[0;34m.\u001b[0m\u001b[0mfloatx\u001b[0m\u001b[0;34m(\u001b[0m\u001b[0;34m)\u001b[0m\u001b[0;34m\u001b[0m\u001b[0;34m\u001b[0m\u001b[0m\n\u001b[1;32m    224\u001b[0m     \u001b[0mkwargs\u001b[0m\u001b[0;34m[\u001b[0m\u001b[0;34m'dtype'\u001b[0m\u001b[0;34m]\u001b[0m \u001b[0;34m=\u001b[0m \u001b[0mdtype\u001b[0m\u001b[0;34m\u001b[0m\u001b[0;34m\u001b[0m\u001b[0m\n\u001b[0;32m--> 225\u001b[0;31m   \u001b[0;32mreturn\u001b[0m \u001b[0mimage\u001b[0m\u001b[0;34m.\u001b[0m\u001b[0mimg_to_array\u001b[0m\u001b[0;34m(\u001b[0m\u001b[0mimg\u001b[0m\u001b[0;34m,\u001b[0m \u001b[0mdata_format\u001b[0m\u001b[0;34m=\u001b[0m\u001b[0mdata_format\u001b[0m\u001b[0;34m,\u001b[0m \u001b[0;34m**\u001b[0m\u001b[0mkwargs\u001b[0m\u001b[0;34m)\u001b[0m\u001b[0;34m\u001b[0m\u001b[0;34m\u001b[0m\u001b[0m\n\u001b[0m\u001b[1;32m    226\u001b[0m \u001b[0;34m\u001b[0m\u001b[0m\n\u001b[1;32m    227\u001b[0m \u001b[0;34m\u001b[0m\u001b[0m\n",
      "\u001b[0;32m/usr/local/lib/python3.6/dist-packages/keras_preprocessing/image/utils.py\u001b[0m in \u001b[0;36mimg_to_array\u001b[0;34m(img, data_format, dtype)\u001b[0m\n\u001b[1;32m    307\u001b[0m     \u001b[0;31m# or (channel, height, width)\u001b[0m\u001b[0;34m\u001b[0m\u001b[0;34m\u001b[0m\u001b[0;34m\u001b[0m\u001b[0m\n\u001b[1;32m    308\u001b[0m     \u001b[0;31m# but original PIL image has format (width, height, channel)\u001b[0m\u001b[0;34m\u001b[0m\u001b[0;34m\u001b[0m\u001b[0;34m\u001b[0m\u001b[0m\n\u001b[0;32m--> 309\u001b[0;31m     \u001b[0mx\u001b[0m \u001b[0;34m=\u001b[0m \u001b[0mnp\u001b[0m\u001b[0;34m.\u001b[0m\u001b[0masarray\u001b[0m\u001b[0;34m(\u001b[0m\u001b[0mimg\u001b[0m\u001b[0;34m,\u001b[0m \u001b[0mdtype\u001b[0m\u001b[0;34m=\u001b[0m\u001b[0mdtype\u001b[0m\u001b[0;34m)\u001b[0m\u001b[0;34m\u001b[0m\u001b[0;34m\u001b[0m\u001b[0m\n\u001b[0m\u001b[1;32m    310\u001b[0m     \u001b[0;32mif\u001b[0m \u001b[0mlen\u001b[0m\u001b[0;34m(\u001b[0m\u001b[0mx\u001b[0m\u001b[0;34m.\u001b[0m\u001b[0mshape\u001b[0m\u001b[0;34m)\u001b[0m \u001b[0;34m==\u001b[0m \u001b[0;36m3\u001b[0m\u001b[0;34m:\u001b[0m\u001b[0;34m\u001b[0m\u001b[0;34m\u001b[0m\u001b[0m\n\u001b[1;32m    311\u001b[0m         \u001b[0;32mif\u001b[0m \u001b[0mdata_format\u001b[0m \u001b[0;34m==\u001b[0m \u001b[0;34m'channels_first'\u001b[0m\u001b[0;34m:\u001b[0m\u001b[0;34m\u001b[0m\u001b[0;34m\u001b[0m\u001b[0m\n",
      "\u001b[0;32m/usr/local/lib/python3.6/dist-packages/numpy/core/_asarray.py\u001b[0m in \u001b[0;36masarray\u001b[0;34m(a, dtype, order)\u001b[0m\n\u001b[1;32m     81\u001b[0m \u001b[0;34m\u001b[0m\u001b[0m\n\u001b[1;32m     82\u001b[0m     \"\"\"\n\u001b[0;32m---> 83\u001b[0;31m     \u001b[0;32mreturn\u001b[0m \u001b[0marray\u001b[0m\u001b[0;34m(\u001b[0m\u001b[0ma\u001b[0m\u001b[0;34m,\u001b[0m \u001b[0mdtype\u001b[0m\u001b[0;34m,\u001b[0m \u001b[0mcopy\u001b[0m\u001b[0;34m=\u001b[0m\u001b[0;32mFalse\u001b[0m\u001b[0;34m,\u001b[0m \u001b[0morder\u001b[0m\u001b[0;34m=\u001b[0m\u001b[0morder\u001b[0m\u001b[0;34m)\u001b[0m\u001b[0;34m\u001b[0m\u001b[0;34m\u001b[0m\u001b[0m\n\u001b[0m\u001b[1;32m     84\u001b[0m \u001b[0;34m\u001b[0m\u001b[0m\n\u001b[1;32m     85\u001b[0m \u001b[0;34m\u001b[0m\u001b[0m\n",
      "\u001b[0;31mKeyboardInterrupt\u001b[0m: "
     ]
    }
   ],
   "source": [
    "x = []\n",
    "for path in dataset[\"path\"]:\n",
    "    image = keras.preprocessing.image.load_img(path)\n",
    "    x.append(keras.preprocessing.image.img_to_array(image))\n",
    "\n",
    "y = [0 if clazz == \"bening\" else 1 for clazz in dataset[\"lesion\"]]\n",
    "\n",
    "x_train, x_test, y_train, y_test = train_test_split(x, y, test_size=0.3)"
   ]
  },
  {
   "cell_type": "code",
   "execution_count": null,
   "metadata": {},
   "outputs": [],
   "source": [
    "image_generator = preprocessing.ImageDataGenerator(\n",
    "    rotation_range=40,\n",
    "    width_shift_range=0.2,\n",
    "    height_shift_range=0.2,\n",
    "    shear_range=0.2,\n",
    "    zoom_range=0.2\n",
    "    validation_split=0.2\n",
    "    horizontal_flip=True,\n",
    "    vertical_flip=True,\n",
    "    shuffle=True\n",
    ")\n",
    "\n",
    "image_generator.fit(x_train)"
   ]
  },
  {
   "cell_type": "code",
   "execution_count": null,
   "metadata": {},
   "outputs": [],
   "source": [
    "model = keras.Sequential([\n",
    "    keras.layers.InputLayer(input_shape=(len(dataset),)),\n",
    "    keras.layers.Dense(64, activation=\"relu\"),\n",
    "    keras.layers.Dense(64, activation=\"relu\"),\n",
    "    keras.layers.Dropout(0.3),\n",
    "    keras.layers.Dense(2, activation=\"sigmoid\"),\n",
    "])\n",
    "model.compile(loss=\"binary_crossentropy\", optimizer=\"adam\", metrics=[\"accuracy\"])\n",
    "model.fit(\n",
    "    datagen.flow(x_train, y_train, batch_size=32, subset='training'),\n",
    "    validation_data=datagen.flow(x_train, y_train, batch_size=8, subset='validation'),\n",
    "    steps_per_epoch=len(x_train) / 32,\n",
    "    epochs=64\n",
    ")"
   ]
  }
 ]
}
