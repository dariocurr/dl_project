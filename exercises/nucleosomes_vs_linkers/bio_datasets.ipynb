{
  "nbformat": 4,
  "nbformat_minor": 0,
  "metadata": {
    "colab": {
      "name": "bio_datasets.ipynb",
      "provenance": [],
      "collapsed_sections": []
    },
    "kernelspec": {
      "name": "python3",
      "display_name": "Python 3"
    },
    "language_info": {
      "name": "python"
    }
  },
  "cells": [
    {
      "cell_type": "markdown",
      "metadata": {
        "id": "p-wUd2h_tPh9"
      },
      "source": [
        "Import libraries"
      ]
    },
    {
      "cell_type": "code",
      "metadata": {
        "id": "zFKvEfIYtS89"
      },
      "source": [
        "import numpy as np\n",
        "import pandas as pd\n",
        "import itertools\n",
        "from Bio import SeqIO\n",
        "from tensorflow import keras\n",
        "from sklearn.model_selection import KFold\n",
        "from sklearn.metrics import classification_report"
      ],
      "execution_count": 1,
      "outputs": []
    },
    {
      "cell_type": "markdown",
      "metadata": {
        "id": "pWtqyqKNy4Xf"
      },
      "source": [
        "Load datasets"
      ]
    },
    {
      "cell_type": "code",
      "metadata": {
        "id": "nheQSoxjy57s"
      },
      "source": [
        "df_melanogaster = pd.DataFrame(\n",
        "    [(str(el.seq), 0 if el.id == \"Nucleosome\" else 1) for el in SeqIO.parse(\"data/nucleosomes_vs_linkers_melanogaster.fas\", \"fasta\")], \n",
        "    columns=['sequence', 'label'],\n",
        ")\n",
        "df_melanogaster.name = 'melanogaster'\n",
        "\n",
        "df_elegans = pd.DataFrame(\n",
        "    [(str(el.seq), 0 if el.id == \"Nucleosome\" else 1) for el in SeqIO.parse(\"data/nucleosomes_vs_linkers_elegans.fas\", \"fasta\")], \n",
        "    columns=['sequence', 'label']\n",
        ")\n",
        "df_elegans.name = 'elegans'\n",
        "\n",
        "df_sapiens = pd.DataFrame(\n",
        "    [(str(el.seq), 0 if el.id == \"Nucleosome\" else 1) for el in SeqIO.parse(\"data/nucleosomes_vs_linkers_sapiens.fas\", \"fasta\")], \n",
        "    columns=['sequence', 'label']\n",
        ")\n",
        "df_sapiens.name = 'sapiens'"
      ],
      "execution_count": 2,
      "outputs": []
    },
    {
      "cell_type": "markdown",
      "metadata": {
        "id": "MiqWruQrzhSe"
      },
      "source": [
        "Visualize dataset"
      ]
    },
    {
      "cell_type": "code",
      "metadata": {
        "colab": {
          "base_uri": "https://localhost:8080/",
          "height": 402
        },
        "id": "Alo74g8mze4_",
        "outputId": "48019778-dc08-425f-e052-f3ba907a6864"
      },
      "source": [
        "df_melanogaster"
      ],
      "execution_count": 3,
      "outputs": [
        {
          "output_type": "execute_result",
          "data": {
            "text/html": [
              "<div>\n",
              "<style scoped>\n",
              "    .dataframe tbody tr th:only-of-type {\n",
              "        vertical-align: middle;\n",
              "    }\n",
              "\n",
              "    .dataframe tbody tr th {\n",
              "        vertical-align: top;\n",
              "    }\n",
              "\n",
              "    .dataframe thead th {\n",
              "        text-align: right;\n",
              "    }\n",
              "</style>\n",
              "<table border=\"1\" class=\"dataframe\">\n",
              "  <thead>\n",
              "    <tr style=\"text-align: right;\">\n",
              "      <th></th>\n",
              "      <th>sequence</th>\n",
              "      <th>label</th>\n",
              "    </tr>\n",
              "  </thead>\n",
              "  <tbody>\n",
              "    <tr>\n",
              "      <th>0</th>\n",
              "      <td>GGCCCCCCTGAACCCCAAGGCTAACCGCGAGAAGATGACCCAGATC...</td>\n",
              "      <td>0</td>\n",
              "    </tr>\n",
              "    <tr>\n",
              "      <th>1</th>\n",
              "      <td>TCAAATGAACAAAGGCAAAGGAGTCCACAGACCAGGAGATAAAACC...</td>\n",
              "      <td>0</td>\n",
              "    </tr>\n",
              "    <tr>\n",
              "      <th>2</th>\n",
              "      <td>TTCGCTAGCAAATTATTAGGCAATTAAATTAATAAATGAATTGTAT...</td>\n",
              "      <td>0</td>\n",
              "    </tr>\n",
              "    <tr>\n",
              "      <th>3</th>\n",
              "      <td>TAGTTTATAATTAATTCATATACACAAAAGAAAAAGAAAATTAAAT...</td>\n",
              "      <td>0</td>\n",
              "    </tr>\n",
              "    <tr>\n",
              "      <th>4</th>\n",
              "      <td>GATAGTTGTATTAAGTATTAGTATTAATATGTTTAATTTGTCTGTA...</td>\n",
              "      <td>0</td>\n",
              "    </tr>\n",
              "    <tr>\n",
              "      <th>...</th>\n",
              "      <td>...</td>\n",
              "      <td>...</td>\n",
              "    </tr>\n",
              "    <tr>\n",
              "      <th>5745</th>\n",
              "      <td>AAAACGCTGTGGCACATTTCTCTGATAAGCAAATTCTCTTCCTGAG...</td>\n",
              "      <td>1</td>\n",
              "    </tr>\n",
              "    <tr>\n",
              "      <th>5746</th>\n",
              "      <td>AAAGCGGCGCGAAAAAAAGGTTACTTCTGTTAACTGCTGTGTGTCA...</td>\n",
              "      <td>1</td>\n",
              "    </tr>\n",
              "    <tr>\n",
              "      <th>5747</th>\n",
              "      <td>CTTTACCCTGCATACTACCAACCATCCGGATGACAGACAACACGGT...</td>\n",
              "      <td>1</td>\n",
              "    </tr>\n",
              "    <tr>\n",
              "      <th>5748</th>\n",
              "      <td>CGCATTTCGTGGGTATGGCTAATGATCGCGTATGTAGAGTATTCAC...</td>\n",
              "      <td>1</td>\n",
              "    </tr>\n",
              "    <tr>\n",
              "      <th>5749</th>\n",
              "      <td>TACGTATATATATATATATATATATATATATTTGGAGTAGTTATTT...</td>\n",
              "      <td>1</td>\n",
              "    </tr>\n",
              "  </tbody>\n",
              "</table>\n",
              "<p>5750 rows × 2 columns</p>\n",
              "</div>"
            ],
            "text/plain": [
              "                                               sequence  label\n",
              "0     GGCCCCCCTGAACCCCAAGGCTAACCGCGAGAAGATGACCCAGATC...      0\n",
              "1     TCAAATGAACAAAGGCAAAGGAGTCCACAGACCAGGAGATAAAACC...      0\n",
              "2     TTCGCTAGCAAATTATTAGGCAATTAAATTAATAAATGAATTGTAT...      0\n",
              "3     TAGTTTATAATTAATTCATATACACAAAAGAAAAAGAAAATTAAAT...      0\n",
              "4     GATAGTTGTATTAAGTATTAGTATTAATATGTTTAATTTGTCTGTA...      0\n",
              "...                                                 ...    ...\n",
              "5745  AAAACGCTGTGGCACATTTCTCTGATAAGCAAATTCTCTTCCTGAG...      1\n",
              "5746  AAAGCGGCGCGAAAAAAAGGTTACTTCTGTTAACTGCTGTGTGTCA...      1\n",
              "5747  CTTTACCCTGCATACTACCAACCATCCGGATGACAGACAACACGGT...      1\n",
              "5748  CGCATTTCGTGGGTATGGCTAATGATCGCGTATGTAGAGTATTCAC...      1\n",
              "5749  TACGTATATATATATATATATATATATATATTTGGAGTAGTTATTT...      1\n",
              "\n",
              "[5750 rows x 2 columns]"
            ]
          },
          "metadata": {
            "tags": []
          },
          "execution_count": 3
        }
      ]
    },
    {
      "cell_type": "markdown",
      "metadata": {
        "id": "A4-TIxqm3XeZ"
      },
      "source": [
        "Create W for k-mers representatin"
      ]
    },
    {
      "cell_type": "code",
      "metadata": {
        "colab": {
          "base_uri": "https://localhost:8080/"
        },
        "id": "DobJLVKW3XDK",
        "outputId": "b5511725-bf53-413b-bee7-a14a38d8ee12"
      },
      "source": [
        "k = 2;\n",
        "W = [combination[0] + combination[1] for combination in itertools.product([\"A\", \"C\", \"G\", \"T\"], repeat=2)]\n",
        "W"
      ],
      "execution_count": 4,
      "outputs": [
        {
          "output_type": "execute_result",
          "data": {
            "text/plain": [
              "['AA',\n",
              " 'AC',\n",
              " 'AG',\n",
              " 'AT',\n",
              " 'CA',\n",
              " 'CC',\n",
              " 'CG',\n",
              " 'CT',\n",
              " 'GA',\n",
              " 'GC',\n",
              " 'GG',\n",
              " 'GT',\n",
              " 'TA',\n",
              " 'TC',\n",
              " 'TG',\n",
              " 'TT']"
            ]
          },
          "metadata": {
            "tags": []
          },
          "execution_count": 4
        }
      ]
    },
    {
      "cell_type": "markdown",
      "metadata": {
        "id": "jqNDaAalP8aL"
      },
      "source": [
        "Define the one-hot encoder"
      ]
    },
    {
      "cell_type": "code",
      "metadata": {
        "id": "sgxN6y8xP3zj"
      },
      "source": [
        "def one_hot_encoder(sequence):\n",
        "    mapping = dict(zip(\"ACGT\", range(4)))\n",
        "    one_hot = np.asarray([[0 for _ in range(0, len(sequence))] for base in \"ACGT\"])\n",
        "    for i in range(0, len(sequence)):\n",
        "        one_hot[mapping[sequence[i]]][i] = 1\n",
        "    return [i for l in one_hot for i in l]"
      ],
      "execution_count": 5,
      "outputs": []
    },
    {
      "cell_type": "code",
      "metadata": {
        "colab": {
          "base_uri": "https://localhost:8080/"
        },
        "id": "DSxAA68sAol4",
        "outputId": "5e5b1966-555a-48e1-e1d3-88f429478ee8"
      },
      "source": [
        "results = {}\n",
        "\n",
        "for dataframe in [df_melanogaster, df_elegans, df_sapiens]:\n",
        "\n",
        "    results[dataframe.name] = {}\n",
        "\n",
        "    # Represent the sequence in k-mers\n",
        "\n",
        "    x_dataset_k_mers = []\n",
        "    for sequence in dataframe[\"sequence\"]:\n",
        "        k_mers = [0 for _ in range(0, 4 ** k)]\n",
        "        for i in range(0, len(sequence) - 1):\n",
        "            k_mers[W.index(sequence[i:i+2])] += 1\n",
        "        l = len(sequence) - k + 1;\n",
        "        x_dataset_k_mers.append([n / l for n in k_mers])\n",
        "\n",
        "    x_dataset_k_mers = np.asarray(x_dataset_k_mers)\n",
        "\n",
        "\n",
        "    # Represent the sequence in one-hot encoding\n",
        "\n",
        "    x_dataset_one_hot = np.asarray([one_hot_encoder(sequence) for sequence in dataframe[\"sequence\"]])\n",
        "\n",
        "\n",
        "    # Create the y for the dataset\n",
        "\n",
        "    y_dataset = np.asarray(dataframe[\"label\"])\n",
        "    y_dataset_categorical = keras.utils.to_categorical(y_dataset, 2)\n",
        "\n",
        "\n",
        "    # Define the models\n",
        "\n",
        "    k_mers_model = keras.Sequential([\n",
        "        keras.layers.InputLayer(input_shape=(len(x_dataset_k_mers[0]),)),\n",
        "        keras.layers.Dense(64, activation=\"relu\"),\n",
        "        keras.layers.Dense(64, activation=\"relu\"),\n",
        "        keras.layers.Dropout(0.3),\n",
        "        keras.layers.Dense(2, activation=\"sigmoid\"),\n",
        "    ])\n",
        "\n",
        "    k_mers_model.compile(loss=\"binary_crossentropy\", optimizer=\"adam\", metrics=[\"accuracy\"])\n",
        "\n",
        "\n",
        "    one_hot_model = keras.Sequential([\n",
        "        keras.layers.InputLayer(input_shape=(len(x_dataset_one_hot[0]),)),\n",
        "        keras.layers.Dense(64, activation=\"relu\"),\n",
        "        keras.layers.Dense(64, activation=\"relu\"),\n",
        "        keras.layers.Dropout(0.3),\n",
        "        keras.layers.Dense(2, activation=\"sigmoid\"),\n",
        "    ])\n",
        "\n",
        "    one_hot_model.compile(loss=\"binary_crossentropy\", optimizer=\"adam\", metrics=[\"accuracy\"])\n",
        "\n",
        "\n",
        "    # 10-fold cross-validation\n",
        "\n",
        "    n_fold = 10\n",
        "    kf = KFold(n_splits=n_fold, shuffle=True)\n",
        "    k_mers_accuracies = []\n",
        "    one_hot_accuracies = []\n",
        "    for train_index, test_index in kf.split(x_dataset_k_mers):\n",
        "        y_train = y_dataset_categorical[train_index]\n",
        "        y_test = y_dataset[test_index]\n",
        "\n",
        "        k_mers_x_train, k_mers_x_test = x_dataset_k_mers[train_index], x_dataset_k_mers[test_index]\n",
        "        k_mers_model.fit(k_mers_x_train, y_train, epochs=64, batch_size=64, validation_split=0.2, shuffle=True, verbose=False)\n",
        "        k_mers_model_y_predicted_probabilities = k_mers_model.predict(k_mers_x_test)\n",
        "        k_mers_model_y_predicted = np.argmax(k_mers_model_y_predicted_probabilities, axis=1)\n",
        "        k_mers_accuracies.append(classification_report(y_test, k_mers_model_y_predicted, output_dict=True)[\"accuracy\"])\n",
        "        \n",
        "        one_hot_x_train, one_hot_x_test = x_dataset_one_hot[train_index], x_dataset_one_hot[test_index]\n",
        "        one_hot_model.fit(one_hot_x_train, y_train, epochs=64, batch_size=64, validation_split=0.2, shuffle=True, verbose=False)\n",
        "        one_hot_model_y_predicted_probabilities = one_hot_model.predict(one_hot_x_test)\n",
        "        one_hot_model_y_predicted = np.argmax(one_hot_model_y_predicted_probabilities, axis=1)\n",
        "        one_hot_accuracies.append(classification_report(y_test, one_hot_model_y_predicted, output_dict=True)[\"accuracy\"])\n",
        "\n",
        "\n",
        "    # Compute the mean accuracy\n",
        "\n",
        "    results[dataframe.name][\"k_mers_accuracy\"] = sum(k_mers_accuracies) / n_fold\n",
        "    results[dataframe.name][\"one_hot_accuracy\"] = sum(one_hot_accuracies) / n_fold\n",
        "\n",
        "results"
      ],
      "execution_count": 6,
      "outputs": [
        {
          "output_type": "execute_result",
          "data": {
            "text/plain": [
              "{'elegans': {'k_mers_accuracy': 0.8546914557552855,\n",
              "  'one_hot_accuracy': 0.9343132715473141},\n",
              " 'melanogaster': {'k_mers_accuracy': 0.7916521739130434,\n",
              "  'one_hot_accuracy': 0.8928695652173912},\n",
              " 'sapiens': {'k_mers_accuracy': 0.8344849168203492,\n",
              "  'one_hot_accuracy': 0.8839321376358059}}"
            ]
          },
          "metadata": {
            "tags": []
          },
          "execution_count": 6
        }
      ]
    }
  ]
}