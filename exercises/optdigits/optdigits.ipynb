{
  "nbformat": 4,
  "nbformat_minor": 0,
  "metadata": {
    "language_info": {
      "codemirror_mode": {
        "name": "ipython",
        "version": 3
      },
      "file_extension": ".py",
      "mimetype": "text/x-python",
      "name": "python",
      "nbconvert_exporter": "python",
      "pygments_lexer": "ipython3",
      "version": "3.6.9"
    },
    "orig_nbformat": 2,
    "kernelspec": {
      "name": "python3",
      "display_name": "Python 3",
      "language": "python"
    },
    "metadata": {
      "interpreter": {
        "hash": "4cd7ab41f5fca4b9b44701077e38c5ffd31fe66a6cab21e0214b68d958d0e462"
      }
    },
    "colab": {
      "name": "optdigits.ipynb",
      "provenance": [],
      "collapsed_sections": []
    }
  },
  "cells": [
    {
      "cell_type": "markdown",
      "metadata": {
        "id": "L8_DV3ltJGd_"
      },
      "source": [
        "Implementare una rete neurale feedforward per la classificazione del dataset opdigits. In particolare, la rete dovrà apprendere sul dataset di training messo a disposizione. Dovrà essere fornita in output l’accuratezza totale sul training e sul test set"
      ]
    },
    {
      "cell_type": "markdown",
      "metadata": {
        "id": "Qoln0-bmeqTm"
      },
      "source": [
        "Import libraries"
      ]
    },
    {
      "cell_type": "code",
      "metadata": {
        "id": "4MjjNCKNeZy7"
      },
      "source": [
        "import numpy as np\n",
        "import pandas as pd\n",
        "import matplotlib.pyplot as plt\n",
        "from tensorflow import keras\n",
        "from sklearn.neighbors import KNeighborsClassifier\n",
        "from sklearn.metrics import classification_report"
      ],
      "execution_count": 1,
      "outputs": []
    },
    {
      "cell_type": "markdown",
      "metadata": {
        "id": "kbWYsHsoJGeD"
      },
      "source": [
        "Load datasets using pandas"
      ]
    },
    {
      "cell_type": "code",
      "metadata": {
        "id": "aGnpOHJcJGeD"
      },
      "source": [
        "train_df = pd.read_csv(\"data/optdigits.tra\", header=None)\n",
        "test_df = pd.read_csv(\"data/optdigits.tes\", header=None)\n",
        "n_classes = 10"
      ],
      "execution_count": 2,
      "outputs": []
    },
    {
      "cell_type": "markdown",
      "metadata": {
        "id": "FQBvHyAPJGeF"
      },
      "source": [
        "Split the datasets in train and test set"
      ]
    },
    {
      "cell_type": "code",
      "metadata": {
        "id": "GMGCda-fJGeF"
      },
      "source": [
        "x_train = train_df.iloc[:, :-1]\n",
        "y_train = train_df.iloc[:, -1]\n",
        "x_test = test_df.iloc[:, :-1]\n",
        "y_test = test_df.iloc[:, -1]"
      ],
      "execution_count": 3,
      "outputs": []
    },
    {
      "cell_type": "markdown",
      "metadata": {
        "id": "JGfewzCkJGeT"
      },
      "source": [
        "Perform Knn classification and record the accuracy for each k between 1 and 11"
      ]
    },
    {
      "cell_type": "code",
      "metadata": {
        "id": "CW2Ry8ykJGeU"
      },
      "source": [
        "knn_y_predicted = {}\n",
        "knn_reports = {}\n",
        "for k in range(1, 15):\n",
        "    knn = KNeighborsClassifier(n_neighbors=k)\n",
        "    knn.fit(x_train, y_train)\n",
        "    knn_y_predicted[k] = knn.predict(x_test)\n",
        "    knn_reports[k] = classification_report(y_test, knn_y_predicted[k], output_dict=True)"
      ],
      "execution_count": 4,
      "outputs": []
    },
    {
      "cell_type": "markdown",
      "metadata": {
        "id": "IGJKherbQOHu"
      },
      "source": [
        "Compute the recall for each class choosing the best classifier\n"
      ]
    },
    {
      "cell_type": "code",
      "metadata": {
        "colab": {
          "base_uri": "https://localhost:8080/"
        },
        "id": "7DL8aicjQMaX",
        "outputId": "a2e5da5b-bf6a-409b-b433-f942f1e142fe"
      },
      "source": [
        "best_k = max(knn_reports, key = lambda k: knn_reports[k][\"accuracy\"])\n",
        "knn_classes_recall = [knn_reports[best_k][k][\"recall\"] for k in knn_reports[best_k] if k.isdigit()]\n",
        "knn_reports[best_k]"
      ],
      "execution_count": 5,
      "outputs": [
        {
          "output_type": "execute_result",
          "data": {
            "text/plain": [
              "{'0': {'f1-score': 1.0, 'precision': 1.0, 'recall': 1.0, 'support': 178},\n",
              " '1': {'f1-score': 0.9653333333333334,\n",
              "  'precision': 0.9378238341968912,\n",
              "  'recall': 0.9945054945054945,\n",
              "  'support': 182},\n",
              " '2': {'f1-score': 0.9943181818181819,\n",
              "  'precision': 1.0,\n",
              "  'recall': 0.9887005649717514,\n",
              "  'support': 177},\n",
              " '3': {'f1-score': 0.9781420765027322,\n",
              "  'precision': 0.9781420765027322,\n",
              "  'recall': 0.9781420765027322,\n",
              "  'support': 183},\n",
              " '4': {'f1-score': 0.9807162534435261,\n",
              "  'precision': 0.978021978021978,\n",
              "  'recall': 0.9834254143646409,\n",
              "  'support': 181},\n",
              " '5': {'f1-score': 0.9862258953168045,\n",
              "  'precision': 0.988950276243094,\n",
              "  'recall': 0.9835164835164835,\n",
              "  'support': 182},\n",
              " '6': {'f1-score': 1.0, 'precision': 1.0, 'recall': 1.0, 'support': 181},\n",
              " '7': {'f1-score': 0.9888268156424581,\n",
              "  'precision': 0.9888268156424581,\n",
              "  'recall': 0.9888268156424581,\n",
              "  'support': 179},\n",
              " '8': {'f1-score': 0.956268221574344,\n",
              "  'precision': 0.9704142011834319,\n",
              "  'recall': 0.9425287356321839,\n",
              "  'support': 174},\n",
              " '9': {'f1-score': 0.949438202247191,\n",
              "  'precision': 0.9602272727272727,\n",
              "  'recall': 0.9388888888888889,\n",
              "  'support': 180},\n",
              " 'accuracy': 0.9799666110183639,\n",
              " 'macro avg': {'f1-score': 0.979926897987857,\n",
              "  'precision': 0.9802406454517859,\n",
              "  'recall': 0.9798534474024633,\n",
              "  'support': 1797},\n",
              " 'weighted avg': {'f1-score': 0.9799539714122715,\n",
              "  'precision': 0.9801824408563615,\n",
              "  'recall': 0.9799666110183639,\n",
              "  'support': 1797}}"
            ]
          },
          "metadata": {
            "tags": []
          },
          "execution_count": 5
        }
      ]
    },
    {
      "cell_type": "markdown",
      "metadata": {
        "id": "AE_pDvhtJGeV"
      },
      "source": [
        "Creation of the deep network using keras"
      ]
    },
    {
      "cell_type": "code",
      "metadata": {
        "colab": {
          "base_uri": "https://localhost:8080/"
        },
        "id": "tPX0oZ_AJGeV",
        "outputId": "4b649730-5d64-40df-fd4f-c67f5c5c4d38"
      },
      "source": [
        "ff_model = keras.Sequential([\n",
        "    keras.layers.InputLayer(input_shape=(64,)),\n",
        "    keras.layers.Dense(64, activation=\"relu\"),\n",
        "    keras.layers.Dense(64, activation=\"relu\"),\n",
        "    keras.layers.Dropout(0.3),\n",
        "    keras.layers.Dense(n_classes, activation=\"softmax\"),\n",
        "])\n",
        "\n",
        "ff_model.summary()"
      ],
      "execution_count": 6,
      "outputs": [
        {
          "output_type": "stream",
          "text": [
            "Model: \"sequential\"\n",
            "_________________________________________________________________\n",
            "Layer (type)                 Output Shape              Param #   \n",
            "=================================================================\n",
            "dense (Dense)                (None, 64)                4160      \n",
            "_________________________________________________________________\n",
            "dense_1 (Dense)              (None, 64)                4160      \n",
            "_________________________________________________________________\n",
            "dropout (Dropout)            (None, 64)                0         \n",
            "_________________________________________________________________\n",
            "dense_2 (Dense)              (None, 10)                650       \n",
            "=================================================================\n",
            "Total params: 8,970\n",
            "Trainable params: 8,970\n",
            "Non-trainable params: 0\n",
            "_________________________________________________________________\n"
          ],
          "name": "stdout"
        }
      ]
    },
    {
      "cell_type": "markdown",
      "metadata": {
        "id": "X9xyOF7NMXE6"
      },
      "source": [
        "One-hot encoding of the labels"
      ]
    },
    {
      "cell_type": "code",
      "metadata": {
        "id": "KsKNX4zjMaas"
      },
      "source": [
        "y_train_categorical = keras.utils.to_categorical(y_train, n_classes)\n",
        "y_test_categorical = keras.utils.to_categorical(y_test, n_classes)"
      ],
      "execution_count": 7,
      "outputs": []
    },
    {
      "cell_type": "markdown",
      "metadata": {
        "id": "JHGPVt5-J3c8"
      },
      "source": [
        "Train the deep model"
      ]
    },
    {
      "cell_type": "code",
      "metadata": {
        "colab": {
          "base_uri": "https://localhost:8080/"
        },
        "id": "7zd6DL5WJ815",
        "outputId": "73cf86dd-473d-4b68-fc3e-8408fd3debf1"
      },
      "source": [
        "ff_model.compile(loss=\"categorical_crossentropy\", optimizer=\"adam\", metrics=[\"accuracy\"])\n",
        "ff_model.fit(x_train, y_train_categorical, epochs=64, batch_size=64, validation_split=0.2, shuffle=True)"
      ],
      "execution_count": 8,
      "outputs": [
        {
          "output_type": "stream",
          "text": [
            "Epoch 1/64\n",
            "48/48 [==============================] - 1s 7ms/step - loss: 3.8135 - accuracy: 0.3107 - val_loss: 1.0717 - val_accuracy: 0.6863\n",
            "Epoch 2/64\n",
            "48/48 [==============================] - 0s 2ms/step - loss: 1.0171 - accuracy: 0.6763 - val_loss: 0.5241 - val_accuracy: 0.8588\n",
            "Epoch 3/64\n",
            "48/48 [==============================] - 0s 2ms/step - loss: 0.6128 - accuracy: 0.8064 - val_loss: 0.3166 - val_accuracy: 0.9124\n",
            "Epoch 4/64\n",
            "48/48 [==============================] - 0s 2ms/step - loss: 0.4546 - accuracy: 0.8574 - val_loss: 0.2325 - val_accuracy: 0.9281\n",
            "Epoch 5/64\n",
            "48/48 [==============================] - 0s 2ms/step - loss: 0.3495 - accuracy: 0.8927 - val_loss: 0.1892 - val_accuracy: 0.9529\n",
            "Epoch 6/64\n",
            "48/48 [==============================] - 0s 2ms/step - loss: 0.3071 - accuracy: 0.9045 - val_loss: 0.1643 - val_accuracy: 0.9582\n",
            "Epoch 7/64\n",
            "48/48 [==============================] - 0s 2ms/step - loss: 0.2430 - accuracy: 0.9271 - val_loss: 0.1442 - val_accuracy: 0.9608\n",
            "Epoch 8/64\n",
            "48/48 [==============================] - 0s 2ms/step - loss: 0.2388 - accuracy: 0.9277 - val_loss: 0.1287 - val_accuracy: 0.9725\n",
            "Epoch 9/64\n",
            "48/48 [==============================] - 0s 2ms/step - loss: 0.1803 - accuracy: 0.9431 - val_loss: 0.1240 - val_accuracy: 0.9725\n",
            "Epoch 10/64\n",
            "48/48 [==============================] - 0s 2ms/step - loss: 0.1779 - accuracy: 0.9457 - val_loss: 0.1085 - val_accuracy: 0.9765\n",
            "Epoch 11/64\n",
            "48/48 [==============================] - 0s 2ms/step - loss: 0.1546 - accuracy: 0.9568 - val_loss: 0.1053 - val_accuracy: 0.9725\n",
            "Epoch 12/64\n",
            "48/48 [==============================] - 0s 2ms/step - loss: 0.1568 - accuracy: 0.9487 - val_loss: 0.1094 - val_accuracy: 0.9673\n",
            "Epoch 13/64\n",
            "48/48 [==============================] - 0s 2ms/step - loss: 0.1227 - accuracy: 0.9601 - val_loss: 0.1035 - val_accuracy: 0.9752\n",
            "Epoch 14/64\n",
            "48/48 [==============================] - 0s 2ms/step - loss: 0.1189 - accuracy: 0.9666 - val_loss: 0.0927 - val_accuracy: 0.9791\n",
            "Epoch 15/64\n",
            "48/48 [==============================] - 0s 2ms/step - loss: 0.1071 - accuracy: 0.9696 - val_loss: 0.0915 - val_accuracy: 0.9765\n",
            "Epoch 16/64\n",
            "48/48 [==============================] - 0s 2ms/step - loss: 0.0999 - accuracy: 0.9657 - val_loss: 0.0949 - val_accuracy: 0.9752\n",
            "Epoch 17/64\n",
            "48/48 [==============================] - 0s 2ms/step - loss: 0.1035 - accuracy: 0.9666 - val_loss: 0.0935 - val_accuracy: 0.9765\n",
            "Epoch 18/64\n",
            "48/48 [==============================] - 0s 2ms/step - loss: 0.0888 - accuracy: 0.9706 - val_loss: 0.0915 - val_accuracy: 0.9765\n",
            "Epoch 19/64\n",
            "48/48 [==============================] - 0s 2ms/step - loss: 0.0775 - accuracy: 0.9768 - val_loss: 0.0897 - val_accuracy: 0.9752\n",
            "Epoch 20/64\n",
            "48/48 [==============================] - 0s 2ms/step - loss: 0.0862 - accuracy: 0.9722 - val_loss: 0.0941 - val_accuracy: 0.9725\n",
            "Epoch 21/64\n",
            "48/48 [==============================] - 0s 2ms/step - loss: 0.0816 - accuracy: 0.9748 - val_loss: 0.0845 - val_accuracy: 0.9804\n",
            "Epoch 22/64\n",
            "48/48 [==============================] - 0s 2ms/step - loss: 0.0655 - accuracy: 0.9807 - val_loss: 0.0853 - val_accuracy: 0.9804\n",
            "Epoch 23/64\n",
            "48/48 [==============================] - 0s 3ms/step - loss: 0.0754 - accuracy: 0.9768 - val_loss: 0.0779 - val_accuracy: 0.9778\n",
            "Epoch 24/64\n",
            "48/48 [==============================] - 0s 2ms/step - loss: 0.0755 - accuracy: 0.9738 - val_loss: 0.0837 - val_accuracy: 0.9804\n",
            "Epoch 25/64\n",
            "48/48 [==============================] - 0s 2ms/step - loss: 0.0596 - accuracy: 0.9830 - val_loss: 0.0891 - val_accuracy: 0.9791\n",
            "Epoch 26/64\n",
            "48/48 [==============================] - 0s 2ms/step - loss: 0.0571 - accuracy: 0.9810 - val_loss: 0.0876 - val_accuracy: 0.9739\n",
            "Epoch 27/64\n",
            "48/48 [==============================] - 0s 2ms/step - loss: 0.0551 - accuracy: 0.9823 - val_loss: 0.0888 - val_accuracy: 0.9804\n",
            "Epoch 28/64\n",
            "48/48 [==============================] - 0s 2ms/step - loss: 0.0617 - accuracy: 0.9794 - val_loss: 0.0863 - val_accuracy: 0.9817\n",
            "Epoch 29/64\n",
            "48/48 [==============================] - 0s 2ms/step - loss: 0.0507 - accuracy: 0.9830 - val_loss: 0.0891 - val_accuracy: 0.9791\n",
            "Epoch 30/64\n",
            "48/48 [==============================] - 0s 2ms/step - loss: 0.0435 - accuracy: 0.9853 - val_loss: 0.0914 - val_accuracy: 0.9791\n",
            "Epoch 31/64\n",
            "48/48 [==============================] - 0s 2ms/step - loss: 0.0360 - accuracy: 0.9882 - val_loss: 0.0823 - val_accuracy: 0.9817\n",
            "Epoch 32/64\n",
            "48/48 [==============================] - 0s 2ms/step - loss: 0.0415 - accuracy: 0.9869 - val_loss: 0.0815 - val_accuracy: 0.9830\n",
            "Epoch 33/64\n",
            "48/48 [==============================] - 0s 2ms/step - loss: 0.0387 - accuracy: 0.9889 - val_loss: 0.0856 - val_accuracy: 0.9791\n",
            "Epoch 34/64\n",
            "48/48 [==============================] - 0s 2ms/step - loss: 0.0406 - accuracy: 0.9882 - val_loss: 0.0821 - val_accuracy: 0.9791\n",
            "Epoch 35/64\n",
            "48/48 [==============================] - 0s 2ms/step - loss: 0.0307 - accuracy: 0.9908 - val_loss: 0.0813 - val_accuracy: 0.9817\n",
            "Epoch 36/64\n",
            "48/48 [==============================] - 0s 2ms/step - loss: 0.0346 - accuracy: 0.9886 - val_loss: 0.0872 - val_accuracy: 0.9817\n",
            "Epoch 37/64\n",
            "48/48 [==============================] - 0s 3ms/step - loss: 0.0330 - accuracy: 0.9882 - val_loss: 0.0839 - val_accuracy: 0.9817\n",
            "Epoch 38/64\n",
            "48/48 [==============================] - 0s 3ms/step - loss: 0.0336 - accuracy: 0.9866 - val_loss: 0.0847 - val_accuracy: 0.9817\n",
            "Epoch 39/64\n",
            "48/48 [==============================] - 0s 2ms/step - loss: 0.0353 - accuracy: 0.9872 - val_loss: 0.0884 - val_accuracy: 0.9804\n",
            "Epoch 40/64\n",
            "48/48 [==============================] - 0s 3ms/step - loss: 0.0332 - accuracy: 0.9902 - val_loss: 0.0795 - val_accuracy: 0.9830\n",
            "Epoch 41/64\n",
            "48/48 [==============================] - 0s 2ms/step - loss: 0.0323 - accuracy: 0.9899 - val_loss: 0.0895 - val_accuracy: 0.9804\n",
            "Epoch 42/64\n",
            "48/48 [==============================] - 0s 3ms/step - loss: 0.0322 - accuracy: 0.9882 - val_loss: 0.0846 - val_accuracy: 0.9830\n",
            "Epoch 43/64\n",
            "48/48 [==============================] - 0s 3ms/step - loss: 0.0369 - accuracy: 0.9879 - val_loss: 0.0840 - val_accuracy: 0.9817\n",
            "Epoch 44/64\n",
            "48/48 [==============================] - 0s 2ms/step - loss: 0.0266 - accuracy: 0.9925 - val_loss: 0.0904 - val_accuracy: 0.9778\n",
            "Epoch 45/64\n",
            "48/48 [==============================] - 0s 2ms/step - loss: 0.0287 - accuracy: 0.9902 - val_loss: 0.0794 - val_accuracy: 0.9804\n",
            "Epoch 46/64\n",
            "48/48 [==============================] - 0s 2ms/step - loss: 0.0226 - accuracy: 0.9935 - val_loss: 0.0733 - val_accuracy: 0.9830\n",
            "Epoch 47/64\n",
            "48/48 [==============================] - 0s 2ms/step - loss: 0.0227 - accuracy: 0.9925 - val_loss: 0.0759 - val_accuracy: 0.9817\n",
            "Epoch 48/64\n",
            "48/48 [==============================] - 0s 2ms/step - loss: 0.0207 - accuracy: 0.9935 - val_loss: 0.0819 - val_accuracy: 0.9817\n",
            "Epoch 49/64\n",
            "48/48 [==============================] - 0s 2ms/step - loss: 0.0214 - accuracy: 0.9957 - val_loss: 0.0838 - val_accuracy: 0.9843\n",
            "Epoch 50/64\n",
            "48/48 [==============================] - 0s 3ms/step - loss: 0.0183 - accuracy: 0.9948 - val_loss: 0.0790 - val_accuracy: 0.9843\n",
            "Epoch 51/64\n",
            "48/48 [==============================] - 0s 2ms/step - loss: 0.0171 - accuracy: 0.9944 - val_loss: 0.0783 - val_accuracy: 0.9856\n",
            "Epoch 52/64\n",
            "48/48 [==============================] - 0s 2ms/step - loss: 0.0201 - accuracy: 0.9925 - val_loss: 0.0824 - val_accuracy: 0.9830\n",
            "Epoch 53/64\n",
            "48/48 [==============================] - 0s 2ms/step - loss: 0.0177 - accuracy: 0.9961 - val_loss: 0.0855 - val_accuracy: 0.9843\n",
            "Epoch 54/64\n",
            "48/48 [==============================] - 0s 2ms/step - loss: 0.0185 - accuracy: 0.9948 - val_loss: 0.0945 - val_accuracy: 0.9804\n",
            "Epoch 55/64\n",
            "48/48 [==============================] - 0s 2ms/step - loss: 0.0224 - accuracy: 0.9915 - val_loss: 0.0911 - val_accuracy: 0.9804\n",
            "Epoch 56/64\n",
            "48/48 [==============================] - 0s 2ms/step - loss: 0.0207 - accuracy: 0.9935 - val_loss: 0.0859 - val_accuracy: 0.9791\n",
            "Epoch 57/64\n",
            "48/48 [==============================] - 0s 2ms/step - loss: 0.0175 - accuracy: 0.9948 - val_loss: 0.0764 - val_accuracy: 0.9843\n",
            "Epoch 58/64\n",
            "48/48 [==============================] - 0s 2ms/step - loss: 0.0192 - accuracy: 0.9938 - val_loss: 0.0810 - val_accuracy: 0.9817\n",
            "Epoch 59/64\n",
            "48/48 [==============================] - 0s 2ms/step - loss: 0.0119 - accuracy: 0.9967 - val_loss: 0.0827 - val_accuracy: 0.9830\n",
            "Epoch 60/64\n",
            "48/48 [==============================] - 0s 3ms/step - loss: 0.0136 - accuracy: 0.9961 - val_loss: 0.0896 - val_accuracy: 0.9843\n",
            "Epoch 61/64\n",
            "48/48 [==============================] - 0s 2ms/step - loss: 0.0164 - accuracy: 0.9941 - val_loss: 0.0891 - val_accuracy: 0.9843\n",
            "Epoch 62/64\n",
            "48/48 [==============================] - 0s 2ms/step - loss: 0.0193 - accuracy: 0.9944 - val_loss: 0.0930 - val_accuracy: 0.9804\n",
            "Epoch 63/64\n",
            "48/48 [==============================] - 0s 2ms/step - loss: 0.0154 - accuracy: 0.9944 - val_loss: 0.0861 - val_accuracy: 0.9830\n",
            "Epoch 64/64\n",
            "48/48 [==============================] - 0s 2ms/step - loss: 0.0125 - accuracy: 0.9964 - val_loss: 0.0898 - val_accuracy: 0.9817\n"
          ],
          "name": "stdout"
        },
        {
          "output_type": "execute_result",
          "data": {
            "text/plain": [
              "<tensorflow.python.keras.callbacks.History at 0x7f69264de8d0>"
            ]
          },
          "metadata": {
            "tags": []
          },
          "execution_count": 8
        }
      ]
    },
    {
      "cell_type": "markdown",
      "metadata": {
        "id": "kPg_aokdMsHP"
      },
      "source": [
        "Use the model to predict the label of the test set"
      ]
    },
    {
      "cell_type": "code",
      "metadata": {
        "colab": {
          "base_uri": "https://localhost:8080/"
        },
        "id": "j94lcFC8OF3Y",
        "outputId": "d78c3af7-c3b0-4f4d-ac2e-8b7f6a01022d"
      },
      "source": [
        "ff_model_y_predicted_probabilities = ff_model.predict(x_test)\n",
        "ff_model_y_predicted = np.argmax(ff_model_y_predicted_probabilities, axis=1)\n",
        "ff_model_report = classification_report(y_test, ff_model_y_predicted, output_dict=True)\n",
        "ff_model_report"
      ],
      "execution_count": 9,
      "outputs": [
        {
          "output_type": "execute_result",
          "data": {
            "text/plain": [
              "{'0': {'f1-score': 0.9915966386554622,\n",
              "  'precision': 0.9888268156424581,\n",
              "  'recall': 0.9943820224719101,\n",
              "  'support': 178},\n",
              " '1': {'f1-score': 0.9726775956284153,\n",
              "  'precision': 0.967391304347826,\n",
              "  'recall': 0.978021978021978,\n",
              "  'support': 182},\n",
              " '2': {'f1-score': 0.9827586206896551,\n",
              "  'precision': 1.0,\n",
              "  'recall': 0.9661016949152542,\n",
              "  'support': 177},\n",
              " '3': {'f1-score': 0.9467787114845938,\n",
              "  'precision': 0.9712643678160919,\n",
              "  'recall': 0.9234972677595629,\n",
              "  'support': 183},\n",
              " '4': {'f1-score': 0.9807162534435261,\n",
              "  'precision': 0.978021978021978,\n",
              "  'recall': 0.9834254143646409,\n",
              "  'support': 181},\n",
              " '5': {'f1-score': 0.9440000000000001,\n",
              "  'precision': 0.917098445595855,\n",
              "  'recall': 0.9725274725274725,\n",
              "  'support': 182},\n",
              " '6': {'f1-score': 0.9860724233983287,\n",
              "  'precision': 0.9943820224719101,\n",
              "  'recall': 0.9779005524861878,\n",
              "  'support': 181},\n",
              " '7': {'f1-score': 0.9473684210526316,\n",
              "  'precision': 0.9938650306748467,\n",
              "  'recall': 0.9050279329608939,\n",
              "  'support': 179},\n",
              " '8': {'f1-score': 0.9239766081871346,\n",
              "  'precision': 0.9404761904761905,\n",
              "  'recall': 0.9080459770114943,\n",
              "  'support': 174},\n",
              " '9': {'f1-score': 0.9194805194805195,\n",
              "  'precision': 0.8634146341463415,\n",
              "  'recall': 0.9833333333333333,\n",
              "  'support': 180},\n",
              " 'accuracy': 0.9593767390094602,\n",
              " 'macro avg': {'f1-score': 0.9595425792020267,\n",
              "  'precision': 0.9614740789193498,\n",
              "  'recall': 0.9592263645852727,\n",
              "  'support': 1797},\n",
              " 'weighted avg': {'f1-score': 0.9595962300259573,\n",
              "  'precision': 0.9614324668079256,\n",
              "  'recall': 0.9593767390094602,\n",
              "  'support': 1797}}"
            ]
          },
          "metadata": {
            "tags": []
          },
          "execution_count": 9
        }
      ]
    },
    {
      "cell_type": "markdown",
      "metadata": {
        "id": "hLxe6HvPVGxu"
      },
      "source": [
        "Compute the recall of the ff model for each class \n"
      ]
    },
    {
      "cell_type": "code",
      "metadata": {
        "colab": {
          "base_uri": "https://localhost:8080/"
        },
        "id": "_oVjvo8DVKSy",
        "outputId": "49df771b-5c7c-4343-e329-f6527db918c6"
      },
      "source": [
        "ff_model_classes_recall = [ff_model_report[k][\"recall\"] for k in ff_model_report if k.isdigit()]\n",
        "ff_model_classes_recall"
      ],
      "execution_count": 10,
      "outputs": [
        {
          "output_type": "execute_result",
          "data": {
            "text/plain": [
              "[0.9943820224719101,\n",
              " 0.978021978021978,\n",
              " 0.9661016949152542,\n",
              " 0.9234972677595629,\n",
              " 0.9834254143646409,\n",
              " 0.9725274725274725,\n",
              " 0.9779005524861878,\n",
              " 0.9050279329608939,\n",
              " 0.9080459770114943,\n",
              " 0.9833333333333333]"
            ]
          },
          "metadata": {
            "tags": []
          },
          "execution_count": 10
        }
      ]
    },
    {
      "cell_type": "markdown",
      "metadata": {
        "id": "MTLf9HDVPfTM"
      },
      "source": [
        "Load original datasets"
      ]
    },
    {
      "cell_type": "code",
      "metadata": {
        "id": "dsehh4x4PapZ"
      },
      "source": [
        "def extract_dataset(path_to_file, n):\n",
        "\n",
        "    x = []\n",
        "    y = []\n",
        "    first_row = 21\n",
        "    size = 32 \n",
        "    last_row = first_row + size\n",
        "\n",
        "    with open(path_to_file, 'r') as f:\n",
        "        lines = f.readlines()\n",
        "        for i in range(1, n + 1):\n",
        "            image = [[int(pixel) for pixel in line[:-1]] for line in lines[first_row:last_row]]\n",
        "            x.append(image)\n",
        "            y.append(int(lines[last_row][1]))\n",
        "            first_row = last_row + 1;\n",
        "            last_row = first_row + size;\n",
        "    \n",
        "    return x, y\n",
        "\n",
        "\n",
        "x_train_orig, y_train_orig = extract_dataset(\"data/optdigits-orig.tra\", 1934)\n",
        "x_validation_orig, y_validation_orig = extract_dataset(\"data/optdigits-orig.cv\", 946)\n",
        "x_wdep_orig, y_wdep_orig = extract_dataset(\"data/optdigits-orig.wdep\", 943)\n",
        "x_windep_orig, y_windep_orig = extract_dataset(\"data/optdigits-orig.windep\", 1797)"
      ],
      "execution_count": 11,
      "outputs": []
    },
    {
      "cell_type": "markdown",
      "metadata": {
        "id": "0okLv5WcZXtr"
      },
      "source": [
        "Merge optdigits-orig.tra and optdigits-orig.wdep to obtain the whole training set"
      ]
    },
    {
      "cell_type": "code",
      "metadata": {
        "id": "sQ6w-Ej0Sld1"
      },
      "source": [
        "x_train_orig += x_wdep_orig\n",
        "y_train_orig += y_wdep_orig"
      ],
      "execution_count": 12,
      "outputs": []
    },
    {
      "cell_type": "markdown",
      "metadata": {
        "id": "G4V1lskkdTiD"
      },
      "source": [
        "One-hot encoding of the labels"
      ]
    },
    {
      "cell_type": "code",
      "metadata": {
        "id": "L26ncNJSdUA-"
      },
      "source": [
        "y_train_orig_categorical = keras.utils.to_categorical(y_train_orig, n_classes)\n",
        "y_windep_orig_categorical = keras.utils.to_categorical(y_windep_orig, n_classes)\n",
        "y_validation_orig_categorical = keras.utils.to_categorical(y_validation_orig, n_classes)"
      ],
      "execution_count": 13,
      "outputs": []
    },
    {
      "cell_type": "markdown",
      "metadata": {
        "id": "FPgMp-a-jOnT"
      },
      "source": [
        "Train the deep model"
      ]
    },
    {
      "cell_type": "code",
      "metadata": {
        "colab": {
          "base_uri": "https://localhost:8080/"
        },
        "id": "jwArg9AWZgqo",
        "outputId": "336d3baf-48ca-4aa1-9281-e886f796a896"
      },
      "source": [
        "x_train_orig = np.expand_dims(x_train_orig, -1)\n",
        "x_validation_orig = np.expand_dims(x_validation_orig, -1)\n",
        "x_windep_orig = np.expand_dims(x_windep_orig, -1)\n",
        "\n",
        "cnn_model = keras.Sequential([\n",
        "    keras.layers.InputLayer(input_shape=(32, 32, 1)),\n",
        "    keras.layers.Conv2D(32, kernel_size=(3, 3), activation=\"relu\"),\n",
        "    keras.layers.MaxPooling2D(pool_size=(2, 2)),\n",
        "    keras.layers.Conv2D(64, kernel_size=(3, 3), activation=\"relu\"),\n",
        "    keras.layers.MaxPooling2D(pool_size=(2, 2)),\n",
        "    keras.layers.Flatten(),\n",
        "    keras.layers.Dropout(0.5),\n",
        "    keras.layers.Dense(n_classes, activation=\"softmax\"),\n",
        "])\n",
        "\n",
        "cnn_model.summary()"
      ],
      "execution_count": 14,
      "outputs": [
        {
          "output_type": "stream",
          "text": [
            "Model: \"sequential_1\"\n",
            "_________________________________________________________________\n",
            "Layer (type)                 Output Shape              Param #   \n",
            "=================================================================\n",
            "conv2d (Conv2D)              (None, 30, 30, 32)        320       \n",
            "_________________________________________________________________\n",
            "max_pooling2d (MaxPooling2D) (None, 15, 15, 32)        0         \n",
            "_________________________________________________________________\n",
            "conv2d_1 (Conv2D)            (None, 13, 13, 64)        18496     \n",
            "_________________________________________________________________\n",
            "max_pooling2d_1 (MaxPooling2 (None, 6, 6, 64)          0         \n",
            "_________________________________________________________________\n",
            "flatten (Flatten)            (None, 2304)              0         \n",
            "_________________________________________________________________\n",
            "dropout_1 (Dropout)          (None, 2304)              0         \n",
            "_________________________________________________________________\n",
            "dense_3 (Dense)              (None, 10)                23050     \n",
            "=================================================================\n",
            "Total params: 41,866\n",
            "Trainable params: 41,866\n",
            "Non-trainable params: 0\n",
            "_________________________________________________________________\n"
          ],
          "name": "stdout"
        }
      ]
    },
    {
      "cell_type": "code",
      "metadata": {
        "colab": {
          "base_uri": "https://localhost:8080/"
        },
        "id": "JJ6MGHjSaV7F",
        "outputId": "9c1a7f50-3011-49e1-ead9-e936a9656f66"
      },
      "source": [
        "cnn_model.compile(loss=\"categorical_crossentropy\", optimizer=\"adam\", metrics=[\"accuracy\"])\n",
        "cnn_model.fit(\n",
        "    x_train_orig,\n",
        "    y_train_orig_categorical,\n",
        "    epochs=32,\n",
        "    batch_size=64,\n",
        "    validation_data=(x_validation_orig, y_validation_orig_categorical),\n",
        "    shuffle=True\n",
        ")"
      ],
      "execution_count": 15,
      "outputs": [
        {
          "output_type": "stream",
          "text": [
            "Epoch 1/32\n",
            "45/45 [==============================] - 4s 79ms/step - loss: 1.1348 - accuracy: 0.6590 - val_loss: 0.2329 - val_accuracy: 0.9302\n",
            "Epoch 2/32\n",
            "45/45 [==============================] - 3s 75ms/step - loss: 0.2538 - accuracy: 0.9211 - val_loss: 0.1511 - val_accuracy: 0.9588\n",
            "Epoch 3/32\n",
            "45/45 [==============================] - 3s 75ms/step - loss: 0.1504 - accuracy: 0.9566 - val_loss: 0.1103 - val_accuracy: 0.9704\n",
            "Epoch 4/32\n",
            "45/45 [==============================] - 3s 74ms/step - loss: 0.1221 - accuracy: 0.9611 - val_loss: 0.1000 - val_accuracy: 0.9715\n",
            "Epoch 5/32\n",
            "45/45 [==============================] - 3s 74ms/step - loss: 0.0991 - accuracy: 0.9694 - val_loss: 0.0730 - val_accuracy: 0.9767\n",
            "Epoch 6/32\n",
            "45/45 [==============================] - 3s 74ms/step - loss: 0.0741 - accuracy: 0.9774 - val_loss: 0.0696 - val_accuracy: 0.9810\n",
            "Epoch 7/32\n",
            "45/45 [==============================] - 3s 74ms/step - loss: 0.0712 - accuracy: 0.9757 - val_loss: 0.0646 - val_accuracy: 0.9820\n",
            "Epoch 8/32\n",
            "45/45 [==============================] - 3s 74ms/step - loss: 0.0564 - accuracy: 0.9830 - val_loss: 0.0573 - val_accuracy: 0.9841\n",
            "Epoch 9/32\n",
            "45/45 [==============================] - 3s 74ms/step - loss: 0.0487 - accuracy: 0.9826 - val_loss: 0.0629 - val_accuracy: 0.9810\n",
            "Epoch 10/32\n",
            "45/45 [==============================] - 3s 74ms/step - loss: 0.0425 - accuracy: 0.9878 - val_loss: 0.0634 - val_accuracy: 0.9863\n",
            "Epoch 11/32\n",
            "45/45 [==============================] - 3s 74ms/step - loss: 0.0387 - accuracy: 0.9851 - val_loss: 0.0565 - val_accuracy: 0.9831\n",
            "Epoch 12/32\n",
            "45/45 [==============================] - 3s 74ms/step - loss: 0.0376 - accuracy: 0.9851 - val_loss: 0.0586 - val_accuracy: 0.9820\n",
            "Epoch 13/32\n",
            "45/45 [==============================] - 3s 75ms/step - loss: 0.0320 - accuracy: 0.9903 - val_loss: 0.0571 - val_accuracy: 0.9852\n",
            "Epoch 14/32\n",
            "45/45 [==============================] - 3s 74ms/step - loss: 0.0265 - accuracy: 0.9910 - val_loss: 0.0537 - val_accuracy: 0.9852\n",
            "Epoch 15/32\n",
            "45/45 [==============================] - 3s 74ms/step - loss: 0.0279 - accuracy: 0.9889 - val_loss: 0.0571 - val_accuracy: 0.9841\n",
            "Epoch 16/32\n",
            "45/45 [==============================] - 3s 75ms/step - loss: 0.0263 - accuracy: 0.9917 - val_loss: 0.0505 - val_accuracy: 0.9841\n",
            "Epoch 17/32\n",
            "45/45 [==============================] - 3s 75ms/step - loss: 0.0222 - accuracy: 0.9920 - val_loss: 0.0650 - val_accuracy: 0.9820\n",
            "Epoch 18/32\n",
            "45/45 [==============================] - 3s 75ms/step - loss: 0.0239 - accuracy: 0.9903 - val_loss: 0.0535 - val_accuracy: 0.9831\n",
            "Epoch 19/32\n",
            "45/45 [==============================] - 3s 75ms/step - loss: 0.0194 - accuracy: 0.9930 - val_loss: 0.0537 - val_accuracy: 0.9831\n",
            "Epoch 20/32\n",
            "45/45 [==============================] - 3s 75ms/step - loss: 0.0212 - accuracy: 0.9941 - val_loss: 0.0454 - val_accuracy: 0.9863\n",
            "Epoch 21/32\n",
            "45/45 [==============================] - 3s 75ms/step - loss: 0.0153 - accuracy: 0.9934 - val_loss: 0.0514 - val_accuracy: 0.9873\n",
            "Epoch 22/32\n",
            "45/45 [==============================] - 3s 75ms/step - loss: 0.0149 - accuracy: 0.9944 - val_loss: 0.0542 - val_accuracy: 0.9852\n",
            "Epoch 23/32\n",
            "45/45 [==============================] - 3s 74ms/step - loss: 0.0152 - accuracy: 0.9948 - val_loss: 0.0635 - val_accuracy: 0.9831\n",
            "Epoch 24/32\n",
            "45/45 [==============================] - 3s 75ms/step - loss: 0.0137 - accuracy: 0.9948 - val_loss: 0.0438 - val_accuracy: 0.9873\n",
            "Epoch 25/32\n",
            "45/45 [==============================] - 3s 75ms/step - loss: 0.0129 - accuracy: 0.9955 - val_loss: 0.0439 - val_accuracy: 0.9884\n",
            "Epoch 26/32\n",
            "45/45 [==============================] - 3s 74ms/step - loss: 0.0212 - accuracy: 0.9920 - val_loss: 0.0442 - val_accuracy: 0.9884\n",
            "Epoch 27/32\n",
            "45/45 [==============================] - 3s 74ms/step - loss: 0.0089 - accuracy: 0.9979 - val_loss: 0.0489 - val_accuracy: 0.9873\n",
            "Epoch 28/32\n",
            "45/45 [==============================] - 3s 73ms/step - loss: 0.0119 - accuracy: 0.9955 - val_loss: 0.0460 - val_accuracy: 0.9863\n",
            "Epoch 29/32\n",
            "45/45 [==============================] - 3s 73ms/step - loss: 0.0122 - accuracy: 0.9958 - val_loss: 0.0477 - val_accuracy: 0.9884\n",
            "Epoch 30/32\n",
            "45/45 [==============================] - 3s 73ms/step - loss: 0.0139 - accuracy: 0.9962 - val_loss: 0.0429 - val_accuracy: 0.9873\n",
            "Epoch 31/32\n",
            "45/45 [==============================] - 3s 74ms/step - loss: 0.0101 - accuracy: 0.9958 - val_loss: 0.0409 - val_accuracy: 0.9873\n",
            "Epoch 32/32\n",
            "45/45 [==============================] - 3s 74ms/step - loss: 0.0077 - accuracy: 0.9983 - val_loss: 0.0434 - val_accuracy: 0.9894\n"
          ],
          "name": "stdout"
        },
        {
          "output_type": "execute_result",
          "data": {
            "text/plain": [
              "<tensorflow.python.keras.callbacks.History at 0x7f6925ad5550>"
            ]
          },
          "metadata": {
            "tags": []
          },
          "execution_count": 0
        }
      ]
    },
    {
      "cell_type": "markdown",
      "metadata": {
        "id": "adkbu_CahCA2"
      },
      "source": [
        "Use the model to predict the label of the test set"
      ]
    },
    {
      "cell_type": "code",
      "metadata": {
        "colab": {
          "base_uri": "https://localhost:8080/"
        },
        "id": "KDFiw2jKfrBh",
        "outputId": "9a55b6f9-d33b-4fa2-c58e-b7801aad05db"
      },
      "source": [
        "cnn_model_y_predicted_probabilities = cnn_model.predict(x_windep_orig)\n",
        "cnn_model_y_predicted = np.argmax(cnn_model_y_predicted_probabilities, axis=1)\n",
        "cnn_model_report = classification_report(y_windep_orig, cnn_model_y_predicted, output_dict=True)\n",
        "cnn_model_report"
      ],
      "execution_count": 16,
      "outputs": [
        {
          "output_type": "execute_result",
          "data": {
            "text/plain": [
              "{'0': {'f1-score': 0.9916434540389973,\n",
              "  'precision': 0.9834254143646409,\n",
              "  'recall': 1.0,\n",
              "  'support': 178},\n",
              " '1': {'f1-score': 0.9862258953168045,\n",
              "  'precision': 0.988950276243094,\n",
              "  'recall': 0.9835164835164835,\n",
              "  'support': 182},\n",
              " '2': {'f1-score': 0.9971671388101983,\n",
              "  'precision': 1.0,\n",
              "  'recall': 0.9943502824858758,\n",
              "  'support': 177},\n",
              " '3': {'f1-score': 0.9725274725274724,\n",
              "  'precision': 0.9779005524861878,\n",
              "  'recall': 0.9672131147540983,\n",
              "  'support': 183},\n",
              " '4': {'f1-score': 0.9806094182825484,\n",
              "  'precision': 0.9833333333333333,\n",
              "  'recall': 0.9779005524861878,\n",
              "  'support': 181},\n",
              " '5': {'f1-score': 0.9808219178082191,\n",
              "  'precision': 0.9781420765027322,\n",
              "  'recall': 0.9835164835164835,\n",
              "  'support': 182},\n",
              " '6': {'f1-score': 0.9916897506925207,\n",
              "  'precision': 0.9944444444444445,\n",
              "  'recall': 0.988950276243094,\n",
              "  'support': 181},\n",
              " '7': {'f1-score': 0.9655172413793103,\n",
              "  'precision': 0.9940828402366864,\n",
              "  'recall': 0.9385474860335196,\n",
              "  'support': 179},\n",
              " '8': {'f1-score': 0.9627507163323782,\n",
              "  'precision': 0.96,\n",
              "  'recall': 0.9655172413793104,\n",
              "  'support': 174},\n",
              " '9': {'f1-score': 0.9487870619946092,\n",
              "  'precision': 0.9214659685863874,\n",
              "  'recall': 0.9777777777777777,\n",
              "  'support': 180},\n",
              " 'accuracy': 0.9777406789092933,\n",
              " 'macro avg': {'f1-score': 0.9777740067183058,\n",
              "  'precision': 0.9781744906197508,\n",
              "  'recall': 0.9777289698192831,\n",
              "  'support': 1797},\n",
              " 'weighted avg': {'f1-score': 0.9777965383649838,\n",
              "  'precision': 0.9782074644336746,\n",
              "  'recall': 0.9777406789092933,\n",
              "  'support': 1797}}"
            ]
          },
          "metadata": {
            "tags": []
          },
          "execution_count": 0
        }
      ]
    },
    {
      "cell_type": "markdown",
      "metadata": {
        "id": "fltKa05fg_TZ"
      },
      "source": [
        "Compute the recall of the cnn model for each class "
      ]
    },
    {
      "cell_type": "code",
      "metadata": {
        "colab": {
          "base_uri": "https://localhost:8080/"
        },
        "id": "F1aFlcXvg7xD",
        "outputId": "5ca5e483-c1b7-489f-ec88-d956a42507e2"
      },
      "source": [
        "cnn_model_classes_recall = [cnn_model_report[k][\"recall\"] for k in cnn_model_report if k.isdigit()]\n",
        "cnn_model_classes_recall"
      ],
      "execution_count": 17,
      "outputs": [
        {
          "output_type": "execute_result",
          "data": {
            "text/plain": [
              "[1.0,\n",
              " 0.9835164835164835,\n",
              " 0.9943502824858758,\n",
              " 0.9672131147540983,\n",
              " 0.9779005524861878,\n",
              " 0.9835164835164835,\n",
              " 0.988950276243094,\n",
              " 0.9385474860335196,\n",
              " 0.9655172413793104,\n",
              " 0.9777777777777777]"
            ]
          },
          "metadata": {
            "tags": []
          },
          "execution_count": 0
        }
      ]
    },
    {
      "cell_type": "markdown",
      "metadata": {
        "id": "Vk0HEgWLiMzc"
      },
      "source": [
        "Bar Plot"
      ]
    },
    {
      "cell_type": "code",
      "metadata": {
        "colab": {
          "base_uri": "https://localhost:8080/",
          "height": 265
        },
        "id": "wdNEOjbpiOC6",
        "outputId": "3ffbf0ee-0f07-4617-fe63-008966e90967"
      },
      "source": [
        "x = [i for i in range(0, n_classes)]\n",
        "width = 0.25\n",
        "fig, ax = plt.subplots()\n",
        "ax.bar([clazz - width for clazz in x], knn_classes_recall, width, label=\"knn\")\n",
        "ax.bar([clazz for clazz in x], ff_model_classes_recall, width, label=\"ff model\")\n",
        "ax.bar([clazz + width for clazz in x], cnn_model_classes_recall, width, label=\"cnn model\")\n",
        "ax.set_ylabel(\"Recall\")\n",
        "ax.set_xticks(x)\n",
        "ax.set_yticks([0.80, 0.85, 0.90, 0.95, 1])\n",
        "ax.set_ylim([0.75, 1.07])\n",
        "ax.legend()\n",
        "plt.show()"
      ],
      "execution_count": 18,
      "outputs": [
        {
          "output_type": "display_data",
          "data": {
            "image/png": "[encoded data removed]",
            "text/plain": [
              "<Figure size 432x288 with 1 Axes>"
            ]
          },
          "metadata": {
            "tags": []
          }
        }
      ]
    }
  ]
}